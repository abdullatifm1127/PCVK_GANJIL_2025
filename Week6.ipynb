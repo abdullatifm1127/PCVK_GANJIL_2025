{
  "nbformat": 4,
  "nbformat_minor": 0,
  "metadata": {
    "colab": {
      "provenance": [],
      "authorship_tag": "ABX9TyNSnm20MmcpEbmSd4AyV1tn",
      "include_colab_link": true
    },
    "kernelspec": {
      "name": "python3",
      "display_name": "Python 3"
    },
    "language_info": {
      "name": "python"
    }
  },
  "cells": [
    {
      "cell_type": "markdown",
      "metadata": {
        "id": "view-in-github",
        "colab_type": "text"
      },
      "source": [
        "<a href=\"https://colab.research.google.com/github/abdullatifm1127/PCVK_GANJIL_2025/blob/main/Week6.ipynb\" target=\"_parent\"><img src=\"https://colab.research.google.com/assets/colab-badge.svg\" alt=\"Open In Colab\"/></a>"
      ]
    },
    {
      "cell_type": "code",
      "execution_count": 2,
      "metadata": {
        "id": "CzsgT9IzSnxz",
        "colab": {
          "base_uri": "https://localhost:8080/"
        },
        "outputId": "d0bcf3ff-08d0-45e8-fc94-0b1042d4dd17"
      },
      "outputs": [
        {
          "output_type": "stream",
          "name": "stdout",
          "text": [
            "Mounted at /content/drive\n"
          ]
        }
      ],
      "source": [
        "from google.colab import drive\n",
        "drive.mount('/content/drive')"
      ]
    },
    {
      "cell_type": "code",
      "source": [
        "import numpy as np\n",
        "import matplotlib.pyplot as plt\n",
        "import cv2 as cv\n",
        "import math\n",
        "from google.colab.patches import cv2_imshow\n",
        "from PIL import Image as im"
      ],
      "metadata": {
        "id": "LmObi7XQTZj4"
      },
      "execution_count": 1,
      "outputs": []
    },
    {
      "cell_type": "code",
      "source": [
        "def convolution2d(kernel):\n",
        "\n",
        "  img = cv.imread('/content/drive/MyDrive/Tugas PCVK/lena.jpg')\n",
        "  img_gray = cv.cvtColor(img, cv.COLOR_BGR2GRAY)"
      ],
      "metadata": {
        "id": "ngdqu27gV4fC"
      },
      "execution_count": 18,
      "outputs": []
    },
    {
      "cell_type": "code",
      "source": [
        "kernel_sharpen = np.array([[0,-1,0],\n",
        "                           [-1,5,-1],\n",
        "                           [0,-1,0]])"
      ],
      "metadata": {
        "id": "bnDuPXsIWiqV"
      },
      "execution_count": 19,
      "outputs": []
    },
    {
      "cell_type": "code",
      "source": [
        "convolution2d(img_gray,kernel_sharpen,1,2)"
      ],
      "metadata": {
        "colab": {
          "base_uri": "https://localhost:8080/",
          "height": 146
        },
        "id": "k685pQUoYLO-",
        "outputId": "49851459-7cf3-4d82-ea85-6f9c436213a0"
      },
      "execution_count": 20,
      "outputs": [
        {
          "output_type": "error",
          "ename": "NameError",
          "evalue": "name 'img_gray' is not defined",
          "traceback": [
            "\u001b[0;31m---------------------------------------------------------------------------\u001b[0m",
            "\u001b[0;31mNameError\u001b[0m                                 Traceback (most recent call last)",
            "\u001b[0;32m/tmp/ipython-input-3957580366.py\u001b[0m in \u001b[0;36m<cell line: 0>\u001b[0;34m()\u001b[0m\n\u001b[0;32m----> 1\u001b[0;31m \u001b[0mconvolution2d\u001b[0m\u001b[0;34m(\u001b[0m\u001b[0mimg_gray\u001b[0m\u001b[0;34m,\u001b[0m\u001b[0mkernel_sharpen\u001b[0m\u001b[0;34m,\u001b[0m\u001b[0;36m1\u001b[0m\u001b[0;34m,\u001b[0m\u001b[0;36m2\u001b[0m\u001b[0;34m)\u001b[0m\u001b[0;34m\u001b[0m\u001b[0;34m\u001b[0m\u001b[0m\n\u001b[0m",
            "\u001b[0;31mNameError\u001b[0m: name 'img_gray' is not defined"
          ]
        }
      ]
    },
    {
      "cell_type": "code",
      "source": [
        "def show_side_by_side(images, titles, figsize=(15,5)):\n",
        "  plt.figure(figsize=figsize)\n",
        "  for i, (image, title) in enumerate(zip(images, titles)):\n",
        "    if len(imh.shape) ==2:\n",
        "      plt.subplot(1, len(images), i+1)\n",
        "      plt.imshow(img, cmap=\"gray\")\n",
        "  else:\n",
        "    plt.subplot(1, len(images), i+1)\n",
        "    plt.imshow(cv.cvtColor(img, cv.COLOR_BGR2RGB))\n",
        "  plt.title(title)\n",
        "  plt.axis(\"off\")\n",
        "  plt.show()\n",
        "\n",
        "  img = cv.imread('/content/drive/MyDrive/Tugas PCVK/lena.jpg')\n",
        "  img_gray = cv.cvtColor(img, cv.COLOR_BGR2GRAY)\n",
        "  blur = cv.GaussianBlur(img, (7,7), 1)\n",
        "  edges = cv.Canny(cv.cvtColor(img, cv.COLOR_BGR2GRAY), 100, 200)\n",
        "  sharpen_kernel = np.array([[0,-1,0], [-1,5,-1],[0,-1,0]])\n",
        "  sharpened = cv.filter2D(img, -1, sharpen_kernel)\n",
        "  show_side_by_side([img, blur, edges, sharpened], [\"Original\", \"Blur\", \"Edges\", \"Sharpened\"])"
      ],
      "metadata": {
        "id": "643X3wXuaFxG"
      },
      "execution_count": 24,
      "outputs": []
    }
  ]
}